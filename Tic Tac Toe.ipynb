{
 "cells": [
  {
   "cell_type": "code",
   "execution_count": 1,
   "id": "0d76dde6",
   "metadata": {},
   "outputs": [],
   "source": [
    "# TIC TAC TOE "
   ]
  },
  {
   "cell_type": "code",
   "execution_count": null,
   "id": "c06069f9",
   "metadata": {},
   "outputs": [
    {
     "name": "stdout",
     "output_type": "stream",
     "text": [
      "TIC TAC TOE\n"
     ]
    }
   ],
   "source": [
    "print(\"TIC TAC TOE\")\n",
    "player1=input(\"Player1 - Enter your Symbol : \")\n",
    "player2=input(\"Player2 - Enter your Symbol : \")\n",
    "\n",
    "rows=[\"-\"]*10\n",
    "\n",
    "def design_board():    \n",
    "    print(\"......\")\n",
    "    print(rows[7]+\"|\" + rows[8]+ \"|\" + rows[9] )\n",
    "    print(\"_____\")\n",
    "    print(rows[4]+\"|\" + rows[5]+ \"|\" + rows[6] )\n",
    "    print(\"_____\")\n",
    "    print(rows[1]+\"|\" + rows[2]+ \"|\" + rows[3] )\n",
    "    print(\"......\")\n",
    "\n",
    "def player1_move():\n",
    "    pos1=int(input('Player1 Enter a the position value from 1-9 :'))\n",
    "    if 1 <= pos1 <= 9 and rows[pos1]== \"-\":\n",
    "        rows[pos1] = player1\n",
    "        design_board()\n",
    "    else:\n",
    "        print(\"The spot is already taken. Re-enter the value.\")\n",
    "        player1_move()\n",
    "\n",
    "def player2_move():\n",
    "    pos2=int(input('Player2 Enter a the position value from 1-9 :'))\n",
    "    if 1 <= pos2<=9 and rows[pos2]== \"-\":\n",
    "        rows[pos2]=player2\n",
    "        design_board()\n",
    "    else:\n",
    "        print(\"The spot is already taken. Re-enter the value \")\n",
    "        player2_move()\n",
    "        \n",
    "def check_win():\n",
    "    if rows[1]==rows[2]==rows[3] and rows[1]!=\"-\":\n",
    "        return True\n",
    "    elif rows[4]==rows[5]==rows[6] and rows[4]!=\"-\":\n",
    "        return True\n",
    "    elif rows[7]==rows[8]==rows[9] and rows[7]!=\"-\":\n",
    "        return True\n",
    "    elif rows[7]==rows[4]==rows[1] and rows[1]!=\"-\":\n",
    "        return True\n",
    "    elif rows[8]==rows[5]==rows[2] and rows[2]!=\"-\":\n",
    "        return True\n",
    "    elif rows[9]==rows[6]==rows[3] and rows[3]!=\"-\":\n",
    "        return True\n",
    "    elif rows[9]==rows[5]==rows[1] and rows[9]!=\"-\":\n",
    "        return True\n",
    "    elif rows[7]==rows[5]==rows[3] and rows[7]!=\"-\":\n",
    "        return True\n",
    "    else:\n",
    "        return False \n",
    "\n",
    "        \n",
    "\n",
    "def check_draw():\n",
    "    if \"-\" not in rows[1:]:\n",
    "        return True\n",
    "    return False\n",
    "\n",
    "\n",
    "def play_game():\n",
    "    design_board()\n",
    "        \n",
    "    while not check_win() and not check_draw():\n",
    "        player1_move()\n",
    "        if check_win():\n",
    "            print(\"Player1 Won!\")\n",
    "            break\n",
    "        elif check_draw():\n",
    "            print(\"Game draws\")\n",
    "            break\n",
    "            \n",
    "        player2_move()\n",
    "        if check_win():\n",
    "            print(\"Player2 Won!\")\n",
    "            break\n",
    "        elif check_draw():\n",
    "            print(\"Game draws\")\n",
    "            break\n",
    "    design_board()\n",
    "            \n",
    "play_game()"
   ]
  },
  {
   "cell_type": "code",
   "execution_count": null,
   "id": "29e781a6",
   "metadata": {},
   "outputs": [],
   "source": []
  }
 ],
 "metadata": {
  "kernelspec": {
   "display_name": "Python 3 (ipykernel)",
   "language": "python",
   "name": "python3"
  },
  "language_info": {
   "codemirror_mode": {
    "name": "ipython",
    "version": 3
   },
   "file_extension": ".py",
   "mimetype": "text/x-python",
   "name": "python",
   "nbconvert_exporter": "python",
   "pygments_lexer": "ipython3",
   "version": "3.11.5"
  }
 },
 "nbformat": 4,
 "nbformat_minor": 5
}
