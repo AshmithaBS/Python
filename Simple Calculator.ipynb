{
 "cells": [
  {
   "cell_type": "code",
   "execution_count": 2,
   "id": "7a4e492b",
   "metadata": {},
   "outputs": [],
   "source": [
    "from tkinter import *\n",
    "window= Tk()\n",
    "window.title(\"Simple Calculator\")\n",
    "window.geometry(\"280x300\")\n",
    "\n",
    "\n",
    "def button_click(*args):\n",
    "    entry.insert(END,args)\n",
    "    \n",
    "def equals():\n",
    "    result=entry.get()\n",
    "    if \"%\" in result:\n",
    "        replace(\"%\",*0.01)\n",
    "    entry.delete(0,END)\n",
    "    \n",
    "    ans=eval(result)\n",
    "    entry.insert(0,ans)\n",
    "    ans.clear(0,END)  \n",
    "    \n",
    "    \n",
    "def full_clear():\n",
    "    entry.delete(0,END)\n",
    "    \n",
    "def backspace():\n",
    "    text=entry.get()\n",
    "    cleared=text[:-1]\n",
    "    entry.delete(0,END)\n",
    "    entry.insert(0,cleared)\n",
    "\n",
    "\n",
    "entry=Entry(window)\n",
    "entry.place(x=10, y=10, width=250, height=100)\n",
    "\n",
    "butn7=Button(window,text=\"7\",command=lambda:button_click(7))\n",
    "butn7.place(x=10,y=120,width=40, height=40)\n",
    "\n",
    "butn8=Button(window,text=\"8\",command=lambda:button_click(8))\n",
    "butn8.place(x=60,y=120,width=40, height=40)\n",
    "\n",
    "butn9=Button(window,text=\"9\",command=lambda:button_click(9))\n",
    "butn9.place(x=110,y=120,width=40, height=40)\n",
    "\n",
    "butn4=Button(window,text=\"4\",command=lambda:button_click(4))\n",
    "butn4.place(x=10,y=160,width=40, height=40)\n",
    "\n",
    "butn5=Button(window,text=\"5\",command=lambda:button_click(5))\n",
    "butn5.place(x=60,y=160,width=40, height=40)\n",
    "\n",
    "butn6=Button(window,text=\"6\",command=lambda:button_click(6))\n",
    "butn6.place(x=110,y=160,width=40, height=40)\n",
    "\n",
    "butn1=Button(window,text=\"1\",command=lambda:button_click(1))\n",
    "butn1.place(x=10,y=200,width=40, height=40)\n",
    "\n",
    "butn2=Button(window,text=\"2\",command=lambda:button_click(2))\n",
    "butn2.place(x=60,y=200,width=40, height=40)\n",
    "\n",
    "butn3=Button(window,text=\"3\",command=lambda:button_click(3))\n",
    "butn3.place(x=110,y=200,width=40, height=40)\n",
    "\n",
    "butn0=Button(window,text=\"0\",command=lambda:button_click(0))\n",
    "butn0.place(x=10,y=240,width=40, height=40)\n",
    "\n",
    "dot=Button(window,text=\".\",command=lambda:button_click(\".\"))\n",
    "dot.place(x=60,y=240,width=40, height=40)\n",
    "\n",
    "equal=Button(window,text=\"=\",command=equals,bg=\"black\",fg=\"white\")\n",
    "equal.place(x=110,y=240,width=40, height=40)\n",
    "\n",
    "add=Button(window,text=\"+\",command=lambda:button_click(\"+\"))\n",
    "add.place(x=160,y=120,width=40, height=40)\n",
    "\n",
    "minus=Button(window,text=\"-\",command=lambda:button_click(\"-\"))\n",
    "minus.place(x=160,y=160,width=40, height=40)\n",
    "\n",
    "multiply=Button(window,text=\"x\",command=lambda:button_click(\"x\"))\n",
    "multiply.place(x=160,y=200,width=40, height=40)\n",
    "\n",
    "divide=Button(window,text=\"/\",command=lambda:button_click(\"/\"))\n",
    "divide.place(x=160,y=240,width=40, height=40)\n",
    "\n",
    "clear=Button(window,text=\"AC\",command=full_clear,bg=\"orange\")\n",
    "clear.place(x=210,y=120,width=40, height=40)\n",
    "\n",
    "bksps=Button(window,text=\"<--\",command=backspace)\n",
    "bksps.place(x=210,y=160,width=40, height=40)\n",
    "\n",
    "log=Button(window,text=\"ln\",command=lambda:button_click(\"ln\"))\n",
    "log.place(x=210,y=200,width=40, height=40)\n",
    "\n",
    "percent=Button(window,text=\"%\",command=lambda:button_click(\"%\"))\n",
    "percent.place(x=210,y=240,width=40, height=40)\n",
    "\n",
    "\n",
    "\n",
    "\n",
    "window.mainloop()"
   ]
  },
  {
   "cell_type": "code",
   "execution_count": 22,
   "id": "12f4085b",
   "metadata": {},
   "outputs": [],
   "source": [
    "def add(x,y):\n",
    "    print(x+y)"
   ]
  },
  {
   "cell_type": "code",
   "execution_count": 23,
   "id": "0b32b5d5",
   "metadata": {},
   "outputs": [
    {
     "name": "stdout",
     "output_type": "stream",
     "text": [
      "3\n"
     ]
    }
   ],
   "source": [
    "add(1,2)"
   ]
  },
  {
   "cell_type": "code",
   "execution_count": 26,
   "id": "abbfc44a",
   "metadata": {},
   "outputs": [],
   "source": [
    "add1 = lambda x,y: print(x+y)"
   ]
  },
  {
   "cell_type": "code",
   "execution_count": 27,
   "id": "40c4d9ce",
   "metadata": {},
   "outputs": [
    {
     "name": "stdout",
     "output_type": "stream",
     "text": [
      "6\n"
     ]
    }
   ],
   "source": [
    "add1(2,4)"
   ]
  }
 ],
 "metadata": {
  "kernelspec": {
   "display_name": "Python 3 (ipykernel)",
   "language": "python",
   "name": "python3"
  },
  "language_info": {
   "codemirror_mode": {
    "name": "ipython",
    "version": 3
   },
   "file_extension": ".py",
   "mimetype": "text/x-python",
   "name": "python",
   "nbconvert_exporter": "python",
   "pygments_lexer": "ipython3",
   "version": "3.11.5"
  }
 },
 "nbformat": 4,
 "nbformat_minor": 5
}
